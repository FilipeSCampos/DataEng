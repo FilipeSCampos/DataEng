{
 "cells": [
  {
   "cell_type": "code",
   "execution_count": null,
   "id": "531cd932",
   "metadata": {},
   "outputs": [],
   "source": [
    "import requests\n",
    "import pandas as pd\n",
    "import json"
   ]
  },
  {
   "cell_type": "code",
   "execution_count": null,
   "id": "9b7adb45",
   "metadata": {},
   "outputs": [],
   "source": [
    "base_url = 'https://adm.senado.gov.br/adm-dadosabertos/api/v1/senadores/despesas_ceaps/{}/' \n",
    "anos = [2015,2016,2017,2018,2019,2020,2021,2022] \n",
    "dataframes = []\n"
   ]
  },
  {
   "cell_type": "code",
   "execution_count": null,
   "id": "a5c96eba",
   "metadata": {},
   "outputs": [],
   "source": [
    "def fetch_data_and_create_dataframe(url):\n",
    "    try:        \n",
    "        response = requests.get(url)\n",
    "        data_json = response.json()\n",
    "\n",
    "        df = pd.DataFrame(data_json)\n",
    "        dataframes.append(df)        \n",
    "        print(f'Dados da API em {url} carregados com sucesso.')\n",
    "\n",
    "    except Exception as e:\n",
    "        print(f\"Ocorreu um erro ao carregar dados da API em {url}: {str(e)}\")\n"
   ]
  },
  {
   "cell_type": "code",
   "execution_count": null,
   "id": "1786ac76",
   "metadata": {},
   "outputs": [],
   "source": [
    "for ano in anos:\n",
    "    url_api = base_url.format(ano)\n",
    "    fetch_data_and_create_dataframe(url_api)\n",
    "\n",
    "final_dataframe = pd.concat(dataframes, ignore_index=True)"
   ]
  }
 ],
 "metadata": {
  "kernelspec": {
   "display_name": "Python 3 (ipykernel)",
   "language": "python",
   "name": "python3"
  },
  "language_info": {
   "codemirror_mode": {
    "name": "ipython",
    "version": 3
   },
   "file_extension": ".py",
   "mimetype": "text/x-python",
   "name": "python",
   "nbconvert_exporter": "python",
   "pygments_lexer": "ipython3",
   "version": "3.9.12"
  }
 },
 "nbformat": 4,
 "nbformat_minor": 5
}
